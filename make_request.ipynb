{
 "cells": [
  {
   "cell_type": "code",
   "execution_count": 1,
   "metadata": {},
   "outputs": [],
   "source": [
    "from dataclasses import dataclass\n",
    "import pandas as pd\n",
    "from pydantic import BaseModel\n",
    "from typing import Dict, Any, Optional, List\n",
    "from mlserver.codecs import PandasCodec\n",
    "from abc import ABC, abstractmethod\n",
    "from pathlib import Path\n",
    "import logging\n",
    "\n",
    "log = logging.getLogger(\"model-settings\")\n",
    "\n",
    "class Settings(BaseModel):\n",
    "    \"\"\"Settings for the MLServer Settings Service.\"\"\"\n",
    "    debug:bool = True\n",
    "    \n",
    "class ColumnData(BaseModel):\n",
    "    \"\"\"Column Data is a json representation of dataframe column\"\"\"\n",
    "    name:str\n",
    "    datatype:str = None\n",
    "    parameters:Optional[Dict[str, Any]] = None\n",
    "    shape:Optional[List[int]] = None\n",
    "    data:List = None\n",
    "    \n",
    "class ColumnMeta(BaseModel):\n",
    "    \"\"\"Column Meta is a description of dataframe column\"\"\"\n",
    "    name:str\n",
    "    datatype:str = None\n",
    "    parameters:Optional[Dict[str, Any]] = None\n",
    "    shape:Optional[List[int]] = [-1]\n",
    "\n",
    "class ModelParams(BaseModel):\n",
    "    \"\"\"Used in model-settings\"\"\"\n",
    "    uri:str\n",
    "    version:str = \"v0.1.0\"\n",
    "    \n",
    "class ModelSettings(BaseModel):\n",
    "    \"\"\"A model settings includes a model name, implementation method, \n",
    "        parameters(model file location etc.) and input formats.\"\"\"\n",
    "    name:str\n",
    "    implementation:str\n",
    "    parameters:ModelParams\n",
    "    inputs:List[ColumnMeta] = None\n",
    "\n",
    "class InputRequest(BaseModel):\n",
    "    \"\"\"Tell me the content type of the entire input, and give me the real request data\"\"\"\n",
    "    content_type:Optional[str] = None\n",
    "    parameters:Optional[dict] = None\n",
    "    inputs:List[ColumnData]\n",
    "\n",
    "\n",
    "class SettingsCreator(ABC):\n",
    "    \"\"\"Abstract class for creating model settings object\"\"\"\n",
    "\n",
    "    @abstractmethod\n",
    "    def create_model_settings(self) -> ModelSettings:\n",
    "        pass\n",
    "\n",
    "    def create_settings(self) -> Settings:\n",
    "        return Settings(debug = True)\n",
    "\n",
    "    def dump_json(self, path = \".\"):\n",
    "        settings_path = Path(path) / \"settings.json\"\n",
    "        model_settings_path = Path(path) / \"model-settings.json\"\n",
    "        \n",
    "        with open(settings_path, 'w') as f:\n",
    "            f.write(self.create_settings().json(indent = 2))\n",
    "            log.info(f\"Write settings to {settings_path}\")\n",
    "\n",
    "        with open(model_settings_path, 'w') as f:\n",
    "            f.write(self.create_model_settings().json(indent = 2))\n",
    "            log.info(f\"Write model settings to {model_settings_path}\")\n",
    "\n",
    "\n",
    "@dataclass\n",
    "class SklearnModelSettings(SettingsCreator):\n",
    "\n",
    "    name:str\n",
    "    uri:str\n",
    "    df:pd.DataFrame\n",
    "    version:str = \"v0.1.0\"\n",
    "    implementation:str = 'mlserver_sklearn.SKLearnModel'\n",
    "\n",
    "    def create_inputs_meta(self):\n",
    "        \"\"\"Create metadata input for dataframe\"\"\"\n",
    "        request = PandasCodec.encode_request(self.df.head(1))\n",
    "        inputs = []\n",
    "        for r in request.inputs:\n",
    "            col_meta = {}\n",
    "            if r.datatype == 'BYTES':\n",
    "                col_meta['parameters'] = {'content_type':'str'}\n",
    "            col_meta['name'] = r.name\n",
    "            col_meta['datatype'] = r.datatype\n",
    "            inputs.append(col_meta)\n",
    "        return inputs\n",
    "\n",
    "    def create_model_settings(self) -> ModelSettings:\n",
    "        inputs = self.create_inputs_meta()\n",
    "        model_settings = ModelSettings(\n",
    "            name = self.name,\n",
    "            implementation = self.implementation,\n",
    "            parameters = ModelParams(uri = self.uri, version = self.version),\n",
    "            inputs = inputs\n",
    "        )\n",
    "        return model_settings\n"
   ]
  },
  {
   "cell_type": "code",
   "execution_count": 3,
   "metadata": {},
   "outputs": [],
   "source": [
    "from sklearn.datasets import load_iris\n",
    "from sklearn.model_selection import train_test_split\n",
    "from sklearn import svm\n",
    "import pandas as pd\n",
    "import joblib\n",
    "\n",
    "iris = load_iris()\n",
    "y = iris['target']\n",
    "X = iris['data']\n",
    "X_train, X_test, y_train, y_test = train_test_split(X, y, test_size=0.1)\n",
    "feature_names = iris.feature_names\n",
    "df = pd.DataFrame(X, columns = feature_names)"
   ]
  },
  {
   "cell_type": "code",
   "execution_count": 25,
   "metadata": {},
   "outputs": [
    {
     "data": {
      "text/plain": [
       "'{\"parameters\": {\"content_type\": \"pd\"}, \"inputs\": [{\"name\": \"sepal length (cm)\", \"shape\": [3], \"datatype\": \"FP64\", \"parameters\": null, \"data\": [5.1, 4.9, 4.7]}, {\"name\": \"sepal width (cm)\", \"shape\": [3], \"datatype\": \"FP64\", \"parameters\": null, \"data\": [3.5, 3.0, 3.2]}, {\"name\": \"petal length (cm)\", \"shape\": [3], \"datatype\": \"FP64\", \"parameters\": null, \"data\": [1.4, 1.4, 1.3]}, {\"name\": \"petal width (cm)\", \"shape\": [3], \"datatype\": \"FP64\", \"parameters\": null, \"data\": [0.2, 0.2, 0.2]}]}'"
      ]
     },
     "execution_count": 25,
     "metadata": {},
     "output_type": "execute_result"
    }
   ],
   "source": [
    "\n",
    "def create_request(df,n = 3):\n",
    "    req = PandasCodec.encode_request(df.head(n))\n",
    "    req.parameters = {'content_type':\"pd\"}\n",
    "    return req.json(include = {'parameters','inputs'})\n",
    "    \n",
    "create_request(df)"
   ]
  },
  {
   "cell_type": "code",
   "execution_count": 17,
   "metadata": {},
   "outputs": [],
   "source": []
  },
  {
   "cell_type": "code",
   "execution_count": null,
   "metadata": {},
   "outputs": [],
   "source": []
  }
 ],
 "metadata": {
  "kernelspec": {
   "display_name": "base",
   "language": "python",
   "name": "python3"
  },
  "language_info": {
   "codemirror_mode": {
    "name": "ipython",
    "version": 3
   },
   "file_extension": ".py",
   "mimetype": "text/x-python",
   "name": "python",
   "nbconvert_exporter": "python",
   "pygments_lexer": "ipython3",
   "version": "3.8.8"
  },
  "orig_nbformat": 4,
  "vscode": {
   "interpreter": {
    "hash": "6fa70026b407ae751a5c9e6bd7f7d482379da8ad616f98512780b705c84ee157"
   }
  }
 },
 "nbformat": 4,
 "nbformat_minor": 2
}
