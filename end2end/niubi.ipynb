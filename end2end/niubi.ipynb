{
 "cells": [
  {
   "cell_type": "code",
   "execution_count": 9,
   "metadata": {},
   "outputs": [],
   "source": [
    "from sklearn.datasets import load_iris\n",
    "from sklearn.model_selection import train_test_split\n",
    "from sklearn import datasets, svm, metrics\n",
    "import os\n",
    "import json\n",
    "import pandas as pd\n",
    "from mlserver.codecs import PandasCodec\n",
    "import joblib\n",
    "\n",
    "iris = load_iris()\n",
    "\n",
    "feature_names = iris.feature_names\n",
    "df = pd.DataFrame(iris.data, columns = feature_names)\n",
    "df['new'] = 'sdfefefe'\n",
    "request = PandasCodec.encode_request(df.head(1))\n"
   ]
  },
  {
   "cell_type": "code",
   "execution_count": 11,
   "metadata": {},
   "outputs": [],
   "source": [
    "inputs = []\n",
    "for r in request.inputs:\n",
    "    col_meta = {}\n",
    "    if r.datatype == 'BYTES':\n",
    "        col_meta['parameters'] = {'content_type':'str'}\n",
    "    col_meta['name'] = r.name\n",
    "    col_meta['datatype'] = r.datatype\n",
    "    inputs.append(col_meta)"
   ]
  },
  {
   "cell_type": "code",
   "execution_count": 13,
   "metadata": {},
   "outputs": [
    {
     "data": {
      "text/plain": [
       "[{'name': 'sepal length (cm)', 'datatype': 'FP64'},\n",
       " {'name': 'sepal width (cm)', 'datatype': 'FP64'},\n",
       " {'name': 'petal length (cm)', 'datatype': 'FP64'},\n",
       " {'name': 'petal width (cm)', 'datatype': 'FP64'},\n",
       " {'parameters': {'content_type': 'str'}, 'name': 'new', 'datatype': 'BYTES'}]"
      ]
     },
     "execution_count": 13,
     "metadata": {},
     "output_type": "execute_result"
    }
   ],
   "source": [
    "inputs"
   ]
  },
  {
   "cell_type": "code",
   "execution_count": null,
   "metadata": {},
   "outputs": [],
   "source": []
  }
 ],
 "metadata": {
  "kernelspec": {
   "display_name": "base",
   "language": "python",
   "name": "python3"
  },
  "language_info": {
   "codemirror_mode": {
    "name": "ipython",
    "version": 3
   },
   "file_extension": ".py",
   "mimetype": "text/x-python",
   "name": "python",
   "nbconvert_exporter": "python",
   "pygments_lexer": "ipython3",
   "version": "3.8.8"
  },
  "orig_nbformat": 4,
  "vscode": {
   "interpreter": {
    "hash": "6fa70026b407ae751a5c9e6bd7f7d482379da8ad616f98512780b705c84ee157"
   }
  }
 },
 "nbformat": 4,
 "nbformat_minor": 2
}
